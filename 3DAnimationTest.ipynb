{
 "cells": [
  {
   "cell_type": "code",
   "execution_count": 1,
   "metadata": {
    "collapsed": false
   },
   "outputs": [
    {
     "data": {
      "image/png": "[encoded data removed]",
      "text/plain": [
       "<Figure size 432x288 with 1 Axes>"
      ]
     },
     "metadata": {},
     "output_type": "display_data"
    }
   ],
   "source": [
    "# First import everthing you need\n",
    "import numpy as np\n",
    "from matplotlib import pyplot as plt\n",
    "from matplotlib import animation\n",
    "\n",
    "# Create some random data, I took this piece from here:\n",
    "# http://matplotlib.org/mpl_examples/mplot3d/scatter3d_demo.py\n",
    "def randrange(n, vmin, vmax):\n",
    "    return (vmax - vmin) * np.random.rand(n) + vmin\n",
    "n = 100\n",
    "xx = randrange(n, 23, 32)\n",
    "yy = randrange(n, 0, 100)\n",
    "zz = randrange(n, -50, -25)\n",
    "\n",
    "# Create a figure and a 3D Axes\n",
    "fig = plt.figure(facecolor=(0,0,0))\n",
    "ax = fig.add_subplot(projection='3d')\n",
    "ax.set_axis_off()\n",
    "ax.set_facecolor((0, 0, 0))\n",
    "\n",
    "# Create an init function and the animate functions.\n",
    "# Both are explained in the tutorial. Since we are changing\n",
    "# the the elevation and azimuth and no objects are really\n",
    "# changed on the plot we don't have to return anything from\n",
    "# the init and animate function. (return value is explained\n",
    "# in the tutorial.\n",
    "def init():\n",
    "    ax.scatter(xx, yy, zz, marker='.', s=10, c=\"w\",alpha=1.0,edgecolor='w')\n",
    "    return ()\n",
    "\n",
    "def animate(i):\n",
    "    ax.view_init(elev=0.01*np.sin(2*np.pi*i/720)*360, azim=0.1*i)\n",
    "    return ()\n",
    "    \n",
    "# Animate\n",
    "anim = animation.FuncAnimation(fig, animate, init_func=init,\n",
    "                               frames=1000, interval=20, blit=True)\n",
    "# Save\n",
    "anim.save('basic_animation.mp4',fps=30, extra_args=['-vcodec', 'libx264', '-pix_fmt', 'yuv420p'])"
   ]
  },
  {
   "cell_type": "code",
   "execution_count": null,
   "metadata": {},
   "outputs": [],
   "source": []
  }
 ],
 "metadata": {
  "anaconda-cloud": {},
  "kernelspec": {
   "display_name": "Python [default]",
   "language": "python",
   "name": "python3"
  },
  "language_info": {
   "codemirror_mode": {
    "name": "ipython",
    "version": 3
   },
   "file_extension": ".py",
   "mimetype": "text/x-python",
   "name": "python",
   "nbconvert_exporter": "python",
   "pygments_lexer": "ipython3",
   "version": "3.10.4"
  }
 },
 "nbformat": 4,
 "nbformat_minor": 0
}
